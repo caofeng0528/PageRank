{
 "cells": [
  {
   "cell_type": "code",
   "execution_count": 12,
   "id": "b30c0473",
   "metadata": {},
   "outputs": [
    {
     "ename": "SyntaxError",
     "evalue": "invalid syntax (kocay_algorithm.py, line 1061)",
     "output_type": "error",
     "traceback": [
      "Traceback \u001b[1;36m(most recent call last)\u001b[0m:\n",
      "  File \u001b[0;32m\"C:\\Users\\User\\anaconda3\\lib\\site-packages\\IPython\\core\\interactiveshell.py\"\u001b[0m, line \u001b[0;32m3437\u001b[0m, in \u001b[0;35mrun_code\u001b[0m\n    exec(code_obj, self.user_global_ns, self.user_ns)\n",
      "  File \u001b[0;32m\"<ipython-input-12-0158531b9047>\"\u001b[0m, line \u001b[0;32m1\u001b[0m, in \u001b[0;35m<module>\u001b[0m\n    from pygraph.classes.digraph import digraph\n",
      "  File \u001b[0;32m\"C:\\Users\\User\\anaconda3\\lib\\site-packages\\pygraph\\classes\\digraph.py\"\u001b[0m, line \u001b[0;32m33\u001b[0m, in \u001b[0;35m<module>\u001b[0m\n    from pygraph.mixins.labeling import labeling\n",
      "  File \u001b[0;32m\"C:\\Users\\User\\anaconda3\\lib\\site-packages\\pygraph\\__init__.py\"\u001b[0m, line \u001b[0;32m5\u001b[0m, in \u001b[0;35m<module>\u001b[0m\n    from .functions import (a_star_search,\n",
      "  File \u001b[0;32m\"C:\\Users\\User\\anaconda3\\lib\\site-packages\\pygraph\\functions\\__init__.py\"\u001b[0m, line \u001b[0;32m13\u001b[0m, in \u001b[0;35m<module>\u001b[0m\n    from .planarity import is_planar\n",
      "  File \u001b[0;32m\"C:\\Users\\User\\anaconda3\\lib\\site-packages\\pygraph\\functions\\planarity\\__init__.py\"\u001b[0m, line \u001b[0;32m1\u001b[0m, in \u001b[0;35m<module>\u001b[0m\n    from .functions import is_planar\n",
      "\u001b[1;36m  File \u001b[1;32m\"C:\\Users\\User\\anaconda3\\lib\\site-packages\\pygraph\\functions\\planarity\\functions.py\"\u001b[1;36m, line \u001b[1;32m6\u001b[1;36m, in \u001b[1;35m<module>\u001b[1;36m\u001b[0m\n\u001b[1;33m    from .kocay_algorithm import kocay_planarity_test\u001b[0m\n",
      "\u001b[1;36m  File \u001b[1;32m\"C:\\Users\\User\\anaconda3\\lib\\site-packages\\pygraph\\functions\\planarity\\kocay_algorithm.py\"\u001b[1;36m, line \u001b[1;32m1061\u001b[0m\n\u001b[1;33m    except Exception, e:\u001b[0m\n\u001b[1;37m                    ^\u001b[0m\n\u001b[1;31mSyntaxError\u001b[0m\u001b[1;31m:\u001b[0m invalid syntax\n"
     ]
    }
   ],
   "source": [
    "from pygraph.classes.digraph import digraph\n",
    "\n",
    "\n",
    "class PRIterator:\n",
    "    __doc__ = '''计算一张图中的PR值'''\n",
    "\n",
    "    def __init__(self, dg):\n",
    "        self.damping_factor = 0.85  # 阻尼系数,即α\n",
    "        self.max_iterations = 100  # 最大迭代次数\n",
    "        self.min_delta = 0.00001  # 确定迭代是否结束的参数,即ϵ\n",
    "        self.graph = dg\n",
    "\n",
    "    def page_rank(self):\n",
    "        #  先将图中没有出链的节点改为对所有节点都有出链\n",
    "        for node in self.graph.nodes():\n",
    "            if len(self.graph.neighbors(node)) == 0:\n",
    "                for node2 in self.graph.nodes():\n",
    "                    digraph.add_edge(self.graph, (node, node2))\n",
    "\n",
    "        nodes = self.graph.nodes()\n",
    "        graph_size = len(nodes)\n",
    "\n",
    "        if graph_size == 0:\n",
    "            return {}\n",
    "        page_rank = dict.fromkeys(nodes, 1.0 / graph_size)  # 给每个节点赋予初始的PR值\n",
    "        damping_value = (1.0 - self.damping_factor) / graph_size  # 公式中的(1−α)/N部分\n",
    "\n",
    "        flag = False\n",
    "        for i in range(self.max_iterations):\n",
    "            change = 0\n",
    "            for node in nodes:\n",
    "                rank = 0\n",
    "                for incident_page in self.graph.incidents(node):  # 遍历所有“入射”的页面\n",
    "                    rank += self.damping_factor * (page_rank[incident_page] / len(self.graph.neighbors(incident_page)))\n",
    "                rank += damping_value\n",
    "                change += abs(page_rank[node] - rank)  # 绝对值\n",
    "                page_rank[node] = rank\n",
    "\n",
    "            print(\"This is NO.%s iteration\" % (i + 1))\n",
    "            print(page_rank)\n",
    "\n",
    "            if change < self.min_delta:\n",
    "                flag = True\n",
    "                break\n",
    "        if flag:\n",
    "            print(\"finished in %s iterations!\" % node)\n",
    "        else:\n",
    "            print(\"finished out of 100 iterations!\")\n",
    "        return page_rank\n",
    "\n",
    "\n",
    "if __name__ == '__main__':\n",
    "    dg = digraph()\n",
    "\n",
    "    dg.add_nodes([\"A\", \"B\", \"C\", \"D\", \"E\"])\n",
    "\n",
    "    dg.add_edge((\"A\", \"B\"))\n",
    "    dg.add_edge((\"A\", \"C\"))\n",
    "    dg.add_edge((\"A\", \"D\"))\n",
    "    dg.add_edge((\"B\", \"D\"))\n",
    "    dg.add_edge((\"C\", \"E\"))\n",
    "    dg.add_edge((\"D\", \"E\"))\n",
    "    dg.add_edge((\"B\", \"E\"))\n",
    "    dg.add_edge((\"E\", \"A\"))\n",
    "\n",
    "    pr = PRIterator(dg)\n",
    "    page_ranks = pr.page_rank()\n",
    "\n",
    "    print(\"The final page rank is\\n\", page_ranks)"
   ]
  },
  {
   "cell_type": "code",
   "execution_count": 8,
   "id": "8dec4997",
   "metadata": {},
   "outputs": [],
   "source": [
    "import numpy as np\n",
    "\n",
    "class CPageRank(object):\n",
    "    '''实现PageRank Alogrithm\n",
    "    '''\n",
    "\n",
    "    def __init__(self):\n",
    "        self.PR = []  # PageRank值\n",
    "\n",
    "    def GetPR(self, IOS, alpha, max_itrs, min_delta):\n",
    "        '''幂迭代方法求PR值\n",
    "        :param IOS       表示网页出链入链关系的矩阵,是一个左出链矩阵\n",
    "        :param alpha     阻尼系数α，一般alpha取值0.85\n",
    "        :param max_itrs  最大迭代次数\n",
    "        :param min_delta 停止迭代的阈值\n",
    "        '''\n",
    "        # IOS左出链矩阵, a阻尼系数alpha, N网页总数\n",
    "        N = np.shape(IOS)[0]\n",
    "        # 所有分量都为1的列向量\n",
    "        e = np.ones(shape=(N, 1))\n",
    "        # 计算网页出链个数统计\n",
    "        L = [np.count_nonzero(e) for e in IOS.T]\n",
    "        # 计算网页PR贡献矩阵helpS，是一个左贡献矩阵\n",
    "        helps_efunc = lambda ios, l: ios / l\n",
    "        helps_func = np.frompyfunc(helps_efunc, 2, 1)\n",
    "        helpS = helps_func(IOS, L)\n",
    "        # P[n+1] = AP[n]中的矩阵A\n",
    "        A = alpha * helpS + ((1 - alpha) / N) * np.dot(e, e.T)\n",
    "#         print('左出链矩阵:\\n', IOS)\n",
    "#         print('左PR值贡献概率矩阵:\\n',helpS)`````````\n",
    "        # 幂迭代法求PR值\n",
    "        for i in range(max_itrs):\n",
    "            if 0 == np.shape(self.PR)[0]:  # 使用1.0/N初始化PR值表\n",
    "                self.PR = np.full(shape=(N, 1), fill_value=1.0 / N)\n",
    "                print('初始化的PR值表:', self.PR)\n",
    "            # 使用PR[n+1] = APR[n]递推公式，求PR[n+1]\n",
    "            old_PR = self.PR\n",
    "            self.PR = np.dot(A, self.PR)\n",
    "            # 如果所有网页PR值的前后误差 都小于 自定义的误差阈值，则停止迭代\n",
    "            D = np.array([old - new for old, new in zip(old_PR, self.PR)])\n",
    "            ret = [e < min_delta for e in D]\n",
    "            if ret.count(True) == N:\n",
    "                print('迭代次数:%d, succeed PR:\\n' % (i + 1), self.PR)\n",
    "                break\n",
    "        return self.PR\n",
    "\n",
    "\n",
    "def CPageRank_manual():\n",
    "    # 表示网页之间的出入链的关系矩阵，是一个左关系矩阵，可以理解成右入链矩阵\n",
    "    # IOS[i, j]表示网页j对网页i有出链\n",
    "    IOS = np.array([[0, 0, 0, 0, 1],\n",
    "                    [1, 0, 0, 0, 0],\n",
    "                    [1, 0, 0, 0, 0],\n",
    "                    [1, 1, 0, 0, 0],\n",
    "                    [0, 1, 1, 1, 0]], dtype=float)\n",
    "    pg = CPageRank()\n",
    "    ret = pg.GetPR(IOS, alpha=0.85, max_itrs=100, min_delta=0.0001)\n",
    "    print('最终的PR值:\\n', ret)"
   ]
  },
  {
   "cell_type": "code",
   "execution_count": 28,
   "id": "6419db80",
   "metadata": {
    "scrolled": false
   },
   "outputs": [
    {
     "name": "stdout",
     "output_type": "stream",
     "text": [
      "[['A', 'B'], ['A', 'C'], ['A', 'D'], ['B', 'D'], ['C', 'E'], ['D', 'E'], ['B', 'E'], ['E', 'A']]\n",
      "['A', 'B', 'C', 'D', 'E']\n",
      "[[0, 1], [0, 2], [0, 3], [1, 3], [2, 4], [3, 4], [1, 4], [4, 0]]\n",
      "[[0. 0. 0. 0. 1.]\n",
      " [1. 0. 0. 0. 0.]\n",
      " [1. 0. 0. 0. 0.]\n",
      " [1. 1. 0. 0. 0.]\n",
      " [0. 1. 1. 1. 0.]]\n",
      "[[0.         0.         0.         0.         1.        ]\n",
      " [0.33333333 0.         0.         0.         0.        ]\n",
      " [0.33333333 0.         0.         0.         0.        ]\n",
      " [0.33333333 0.5        0.         0.         0.        ]\n",
      " [0.         0.5        1.         1.         0.        ]]\n",
      "[[0.03       0.03       0.03       0.03       0.88      ]\n",
      " [0.31333333 0.03       0.03       0.03       0.03      ]\n",
      " [0.31333333 0.03       0.03       0.03       0.03      ]\n",
      " [0.31333333 0.455      0.03       0.03       0.03      ]\n",
      " [0.03       0.455      0.88       0.88       0.03      ]]\n",
      "loop...\n",
      "iteration 1: [0.2        0.08666667 0.08666667 0.17166667 0.455     ]\n",
      "iteration 2: [0.41675    0.08666667 0.08666667 0.1235     0.28641667]\n",
      "iteration 3: [0.27345417 0.14807917 0.14807917 0.1849125  0.245475  ]\n",
      "iteration 4: [0.23865375 0.10747868 0.10747868 0.17041233 0.37597656]\n",
      "iteration 5: [0.34958008 0.09761856 0.09761856 0.143297   0.3118858 ]\n",
      "iteration 6: [0.29510293 0.12904769 0.12904769 0.17053558 0.27626612]\n",
      "iteration 7: [0.2648262  0.1136125  0.1136125  0.16845776 0.33949104]\n",
      "iteration 8: [0.31856739 0.10503409 0.10503409 0.1533194  0.31804503]\n",
      "iteration 9: [0.30033828 0.12026076 0.12026076 0.16490025 0.29423996]\n",
      "iteration 10: [0.28010396 0.11509584 0.11509584 0.16620667 0.32349768]\n",
      "iteration 11: [0.30497303 0.10936279 0.10936279 0.15827852 0.31802287]\n",
      "iteration 12: [0.30031944 0.11640902 0.11640902 0.16288821 0.3039743 ]\n",
      "iteration 13: [0.28837816 0.11509051 0.11509051 0.16456434 0.31687648]\n",
      "iteration 14: [0.29934501 0.11170714 0.11170714 0.16062061 0.31662009]\n",
      "iteration 15: [0.29912708 0.11481442 0.11481442 0.16228996 0.30895413]\n",
      "iteration 16: [0.29261101 0.11475267 0.11475267 0.1635488  0.31433485]\n",
      "iteration 17: [0.29718462 0.11290645 0.11290645 0.16167634 0.31532614]\n",
      "iteration 18: [0.29802722 0.11420231 0.11420231 0.16218755 0.31138061]\n",
      "iteration 19: [0.29467352 0.11444104 0.11444104 0.16297703 0.31346736]\n",
      "iteration 20: [0.29644726 0.11349083 0.11349083 0.16212828 0.3144428 ]\n",
      "iteration 21: [0.29727638 0.11399339 0.11399339 0.16222699 0.31250984]\n",
      "iteration 22: [0.29563337 0.11422831 0.11422831 0.1626755  0.31323452]\n",
      "iteration 23: [0.29624934 0.11376279 0.11376279 0.16230982 0.31391527]\n",
      "iteration 24: [0.29682798 0.11393731 0.11393731 0.1622865  0.3130109 ]\n",
      "iteration 25: [0.29605926 0.11410126 0.11410126 0.16252462 0.3132136 ]\n",
      "iteration 26: [0.29623156 0.11388346 0.11388346 0.16237649 0.31362503]\n",
      "iteration 27: [0.29658128 0.11393227 0.11393227 0.16233274 0.31322143]\n",
      "iteration 28: [0.29623821 0.11403136 0.11403136 0.16245258 0.31324648]\n",
      "iteration 29: [0.29625951 0.11393416 0.11393416 0.16239749 0.31347468]\n",
      "iteration 30: [0.29645348 0.11394019 0.11394019 0.16236221 0.31330392]\n",
      "iteration 31: [0.29630833 0.11399515 0.11399515 0.16241973 0.31328163]\n",
      "iteration 32: [0.29628938 0.11395403 0.11395403 0.16240197 0.31340059]\n",
      "iteration 33: [0.2963905  0.11394866 0.11394866 0.16237912 0.31333306]\n",
      "iteration 34: [0.2963331  0.11397731 0.11397731 0.16240549 0.31330679]\n",
      "iteration 35: [0.29631077 0.11396104 0.11396104 0.1624014  0.31336574]\n",
      "iteration 36: [0.29636088 0.11395472 0.11395472 0.16238816 0.31334152]\n",
      "iteration 37: [0.29634029 0.11396891 0.11396891 0.16239967 0.31332221]\n",
      "iteration 38: [0.29632387 0.11396308 0.11396308 0.16239987 0.31335009]\n",
      "iteration 39: [0.29634757 0.11395843 0.11395843 0.16239274 0.31334282]\n",
      "iteration 40: [0.2963414  0.11396515 0.11396515 0.16239748 0.31333083]\n",
      "iteration 41: [0.29633121 0.1139634  0.1139634  0.16239858 0.31334342]\n",
      "iteration 42: [0.29634191 0.11396051 0.11396051 0.16239495 0.31334213]\n",
      "iteration 43: [0.29634081 0.11396354 0.11396354 0.16239676 0.31333536]\n",
      "iteration 44: [0.29633505 0.11396323 0.11396323 0.16239773 0.31334076]\n",
      "iteration 45: [0.29633964 0.1139616  0.1139616  0.16239597 0.31334119]\n",
      "iteration 46: [0.29634001 0.1139629  0.1139629  0.16239658 0.31333761]\n",
      "iteration 47: [0.29633697 0.113963   0.113963   0.16239724 0.31333979]\n",
      "iteration 48: [0.29633882 0.11396214 0.11396214 0.16239642 0.31334048]\n",
      "iteration 49: [0.29633941 0.11396267 0.11396267 0.16239658 0.31333869]\n",
      "iteration 50: [0.29633788 0.11396283 0.11396283 0.16239696 0.31333949]\n",
      "iteration 51: [0.29633856 0.1139624  0.1139624  0.1623966  0.31334003]\n",
      "iteration 52: [0.29633903 0.11396259 0.11396259 0.16239661 0.31333917]\n",
      "iteration 53: [0.2963383  0.11396272 0.11396272 0.16239683 0.31333943]\n",
      "iteration 54: [0.29633851 0.11396252 0.11396252 0.16239668 0.31333978]\n",
      "iteration 55: [0.29633881 0.11396258 0.11396258 0.16239665 0.31333938]\n",
      "iteration 56: [0.29633848 0.11396266 0.11396266 0.16239676 0.31333944]\n",
      "iteration 57: [0.29633852 0.11396257 0.11396257 0.1623967  0.31333964]\n",
      "iteration 58: [0.29633869 0.11396258 0.11396258 0.16239667 0.31333947]\n",
      "iteration 59: [0.29633855 0.11396263 0.11396263 0.16239673 0.31333946]\n",
      "iteration 60: [0.29633854 0.11396259 0.11396259 0.16239671 0.31333957]\n",
      "iteration 61: [0.29633864 0.11396259 0.11396259 0.16239669 0.3133395 ]\n",
      "iteration 62: [0.29633858 0.11396261 0.11396261 0.16239671 0.31333948]\n",
      "iteration 63: [0.29633856 0.1139626  0.1139626  0.16239671 0.31333954]\n",
      "iteration 64: [0.29633861 0.11396259 0.11396259 0.1623967  0.31333951]\n",
      "iteration 65: [0.29633859 0.11396261 0.11396261 0.16239671 0.3133395 ]\n",
      "iteration 66: [0.29633857 0.1139626  0.1139626  0.16239671 0.31333952]\n",
      "iteration 67: [0.29633859 0.1139626  0.1139626  0.1623967  0.31333951]\n",
      "iteration 68: [0.29633859 0.1139626  0.1139626  0.1623967  0.3133395 ]\n",
      "iteration 69: [0.29633858 0.1139626  0.1139626  0.16239671 0.31333952]\n",
      "iteration 70: [0.29633859 0.1139626  0.1139626  0.1623967  0.31333951]\n",
      "iteration 71: [0.29633859 0.1139626  0.1139626  0.1623967  0.31333951]\n",
      "final result: [0.29633859 0.1139626  0.1139626  0.1623967  0.31333951]\n"
     ]
    }
   ],
   "source": [
    "# 输入为一个*.txt文件，例如\n",
    "# A B\n",
    "# B C\n",
    "# B A\n",
    "# ...表示前者指向后者\n",
    " \n",
    "import numpy as np\n",
    " \n",
    "if __name__ == '__main__':\n",
    " \n",
    "    # 读入有向图，存储边\n",
    "    f = open('F:/新建文本文档.txt', 'r')\n",
    "    edges = [line.strip('\\n').split(' ') for line in f]\n",
    "    print(edges)\n",
    " \n",
    "    # 根据边获取节点的集合\n",
    "    nodes = []\n",
    "    for edge in edges:\n",
    "        if edge[0] not in nodes:\n",
    "            nodes.append(edge[0])\n",
    "        if edge[1] not in nodes:\n",
    "            nodes.append(edge[1])\n",
    "    print(nodes)\n",
    " \n",
    "    N = len(nodes)\n",
    " \n",
    "    # 将节点符号（字母），映射成阿拉伯数字，便于后面生成A矩阵/S矩阵\n",
    "    i = 0\n",
    "    node_to_num = {}\n",
    "    for node in nodes:\n",
    "        node_to_num[node] = i\n",
    "        i += 1\n",
    "    for edge in edges:\n",
    "        edge[0] = node_to_num[edge[0]]\n",
    "        edge[1] = node_to_num[edge[1]]\n",
    "    print(edges)\n",
    " \n",
    "    # 生成初步的S矩阵\n",
    "    S = np.zeros([N, N])\n",
    "    for edge in edges:\n",
    "        S[edge[1], edge[0]] = 1\n",
    "    print(S)\n",
    " \n",
    "    # 计算比例：即一个网页对其他网页的PageRank值的贡献，即进行列的归一化处理\n",
    "    for j in range(N):\n",
    "        sum_of_col = sum(S[:,j])\n",
    "        for i in range(N):\n",
    "            S[i, j] /= sum_of_col\n",
    "    print(S)\n",
    " \n",
    "    # 计算矩阵A\n",
    "    alpha = 0.85\n",
    "    A = alpha*S + (1-alpha) / N * np.ones([N, N])\n",
    "    print(A)\n",
    " \n",
    "    # 生成初始的PageRank值，记录在P_n中，P_n和P_n1均用于迭代\n",
    "    P_n = np.ones(N) / N\n",
    "    P_n1 = np.zeros(N)\n",
    " \n",
    "    e = 100000  # 误差初始化\n",
    "    k = 0   # 记录迭代次数\n",
    "    print('loop...')\n",
    " \n",
    "    while e > 0.00000001:   # 开始迭代\n",
    "        P_n1 = np.dot(A, P_n)   # 迭代公式\n",
    "        e = P_n1-P_n\n",
    "        e = max(map(abs, e))    # 计算误差\n",
    "        P_n = P_n1\n",
    "        k += 1\n",
    "        print('iteration %s:'%str(k), P_n1)\n",
    " \n",
    "    print('final result:', P_n)"
   ]
  },
  {
   "cell_type": "code",
   "execution_count": 30,
   "id": "17fd2038",
   "metadata": {
    "scrolled": true
   },
   "outputs": [
    {
     "data": {
      "image/png": "[encoded data removed]",
      "text/plain": [
       "<Figure size 432x288 with 1 Axes>"
      ]
     },
     "metadata": {},
     "output_type": "display_data"
    }
   ],
   "source": [
    "\n",
    "import networkx as nx\n",
    "import matplotlib.pyplot as plt\n",
    " \n",
    "if __name__ == '__main__':\n",
    " \n",
    "    # 读入有向图，存储边\n",
    "    f = open('F:/新建文本文档.txt', 'r')\n",
    "    edges = [line.strip('\\n').split(' ') for line in f]\n",
    " \n",
    "    G = nx.DiGraph()\n",
    "    for edge in edges:\n",
    "        G.add_edge(edge[0], edge[1])\n",
    "    nx.draw(G, with_labels=True)\n",
    "    plt.show()"
   ]
  },
  {
   "cell_type": "code",
   "execution_count": 31,
   "id": "a9dab5f3",
   "metadata": {},
   "outputs": [
    {
     "name": "stdout",
     "output_type": "stream",
     "text": [
      "[['A', 'B'], ['A', 'C'], ['A', 'D'], ['B', 'D'], ['C', 'E'], ['D', 'E'], ['B', 'E'], ['E', 'A']]\n"
     ]
    }
   ],
   "source": [
    "f = open('F:/新建文本文档.txt', 'r')\n",
    "edges = [line.strip('\\n').split(' ') for line in f]\n",
    "print(edges)"
   ]
  },
  {
   "cell_type": "code",
   "execution_count": 32,
   "id": "2f63266b",
   "metadata": {},
   "outputs": [
    {
     "name": "stdout",
     "output_type": "stream",
     "text": [
      "['A', 'B', 'C', 'D', 'E']\n"
     ]
    }
   ],
   "source": [
    "# 根据边获取节点的集合\n",
    "nodes = []\n",
    "for edge in edges:\n",
    "    if edge[0] not in nodes:\n",
    "        nodes.append(edge[0])\n",
    "    if edge[1] not in nodes:\n",
    "        nodes.append(edge[1])\n",
    "print(nodes)"
   ]
  },
  {
   "cell_type": "code",
   "execution_count": 33,
   "id": "4471b81a",
   "metadata": {},
   "outputs": [
    {
     "name": "stdout",
     "output_type": "stream",
     "text": [
      "[[0, 1], [0, 2], [0, 3], [1, 3], [2, 4], [3, 4], [1, 4], [4, 0]]\n"
     ]
    }
   ],
   "source": [
    "N = len(nodes)\n",
    "\n",
    "# 将节点符号（字母），映射成阿拉伯数字，便于后面生成A矩阵/S矩阵\n",
    "i = 0\n",
    "node_to_num = {}\n",
    "for node in nodes:\n",
    "    node_to_num[node] = i\n",
    "    i += 1\n",
    "for edge in edges:\n",
    "    edge[0] = node_to_num[edge[0]]\n",
    "    edge[1] = node_to_num[edge[1]]\n",
    "print(edges)"
   ]
  },
  {
   "cell_type": "code",
   "execution_count": 43,
   "id": "43de3c3b",
   "metadata": {},
   "outputs": [
    {
     "data": {
      "text/plain": [
       "4"
      ]
     },
     "execution_count": 43,
     "metadata": {},
     "output_type": "execute_result"
    }
   ],
   "source": [
    "edge[0]"
   ]
  },
  {
   "cell_type": "code",
   "execution_count": 48,
   "id": "8c246ff8",
   "metadata": {},
   "outputs": [
    {
     "name": "stdout",
     "output_type": "stream",
     "text": [
      "[0, 1]\n",
      "[0, 2]\n",
      "[0, 3]\n",
      "[1, 3]\n",
      "[2, 4]\n",
      "[3, 4]\n",
      "[1, 4]\n",
      "[4, 0]\n"
     ]
    }
   ],
   "source": [
    "for edge in edges:\n",
    "    print(edge)"
   ]
  },
  {
   "cell_type": "code",
   "execution_count": 51,
   "id": "c148602d",
   "metadata": {},
   "outputs": [
    {
     "data": {
      "text/plain": [
       "array([[0., 0., 0., 0., 0.],\n",
       "       [0., 0., 0., 0., 0.],\n",
       "       [0., 0., 0., 0., 0.],\n",
       "       [0., 0., 0., 0., 0.],\n",
       "       [0., 0., 0., 0., 0.]])"
      ]
     },
     "execution_count": 51,
     "metadata": {},
     "output_type": "execute_result"
    }
   ],
   "source": [
    "S = np.zeros([N, N])\n",
    "S"
   ]
  },
  {
   "cell_type": "code",
   "execution_count": 53,
   "id": "e102fbe5",
   "metadata": {},
   "outputs": [
    {
     "data": {
      "text/plain": [
       "array([[0., 0., 0., 0., 0.],\n",
       "       [1., 0., 0., 0., 0.],\n",
       "       [0., 0., 0., 0., 0.],\n",
       "       [0., 0., 0., 0., 0.],\n",
       "       [0., 0., 0., 0., 0.]])"
      ]
     },
     "execution_count": 53,
     "metadata": {},
     "output_type": "execute_result"
    }
   ],
   "source": [
    "S[1, 0] = 1\n",
    "S"
   ]
  },
  {
   "cell_type": "code",
   "execution_count": 36,
   "id": "3539c16c",
   "metadata": {},
   "outputs": [
    {
     "name": "stdout",
     "output_type": "stream",
     "text": [
      "[[0. 0. 0. 0. 1.]\n",
      " [1. 0. 0. 0. 0.]\n",
      " [1. 0. 0. 0. 0.]\n",
      " [1. 1. 0. 0. 0.]\n",
      " [0. 1. 1. 1. 0.]]\n"
     ]
    }
   ],
   "source": [
    "S = np.zeros([N, N])\n",
    "for edge in edges:\n",
    "    S[edge[1], edge[0]] = 1\n",
    "print(S)"
   ]
  },
  {
   "cell_type": "code",
   "execution_count": 37,
   "id": "babfb8c1",
   "metadata": {},
   "outputs": [
    {
     "name": "stdout",
     "output_type": "stream",
     "text": [
      "[[0.         0.         0.         0.         1.        ]\n",
      " [0.33333333 0.         0.         0.         0.        ]\n",
      " [0.33333333 0.         0.         0.         0.        ]\n",
      " [0.33333333 0.5        0.         0.         0.        ]\n",
      " [0.         0.5        1.         1.         0.        ]]\n"
     ]
    }
   ],
   "source": [
    "# 计算比例：即一个网页对其他网页的PageRank值的贡献，即进行列的归一化处理\n",
    "for j in range(N):\n",
    "    sum_of_col = sum(S[:,j])\n",
    "    for i in range(N):\n",
    "        S[i, j] /= sum_of_col\n",
    "print(S)"
   ]
  }
 ],
 "metadata": {
  "kernelspec": {
   "display_name": "Python 3",
   "language": "python",
   "name": "python3"
  },
  "language_info": {
   "codemirror_mode": {
    "name": "ipython",
    "version": 3
   },
   "file_extension": ".py",
   "mimetype": "text/x-python",
   "name": "python",
   "nbconvert_exporter": "python",
   "pygments_lexer": "ipython3",
   "version": "3.8.10"
  }
 },
 "nbformat": 4,
 "nbformat_minor": 5
}
